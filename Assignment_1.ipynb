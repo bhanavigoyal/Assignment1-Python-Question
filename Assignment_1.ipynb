{
  "nbformat": 4,
  "nbformat_minor": 0,
  "metadata": {
    "colab": {
      "provenance": [],
      "authorship_tag": "ABX9TyPmvMEEmWmxPrdsd0q7++Vw",
      "include_colab_link": true
    },
    "kernelspec": {
      "name": "python3",
      "display_name": "Python 3"
    },
    "language_info": {
      "name": "python"
    }
  },
  "cells": [
    {
      "cell_type": "markdown",
      "metadata": {
        "id": "view-in-github",
        "colab_type": "text"
      },
      "source": [
        "<a href=\"https://colab.research.google.com/github/bhanavigoyal/Assignment1-Python-Question/blob/main/Assignment_1.ipynb\" target=\"_parent\"><img src=\"https://colab.research.google.com/assets/colab-badge.svg\" alt=\"Open In Colab\"/></a>"
      ]
    },
    {
      "cell_type": "markdown",
      "source": [
        "Q1- i."
      ],
      "metadata": {
        "id": "YmV_UJanmzot"
      }
    },
    {
      "cell_type": "code",
      "execution_count": null,
      "metadata": {
        "colab": {
          "base_uri": "https://localhost:8080/"
        },
        "id": "KiTTIK_kmr8p",
        "outputId": "42cc07e5-4015-4c2d-c6ba-692409183b27"
      },
      "outputs": [
        {
          "output_type": "stream",
          "name": "stdout",
          "text": [
            "[11, 12, 13, 14, 50, 60]\n"
          ]
        }
      ],
      "source": [
        "L = [11,12,13,14]\n",
        "\n",
        "L.append(50)\n",
        "L.append(60)\n",
        "\n",
        "print(L)"
      ]
    },
    {
      "cell_type": "markdown",
      "source": [
        "Q1- ii."
      ],
      "metadata": {
        "id": "_-3v1PeUmxqm"
      }
    },
    {
      "cell_type": "code",
      "source": [
        "if 11 in L:\n",
        "  i = L.index(11)\n",
        "  del L[i]\n",
        "elif 13 in L:\n",
        "  i = L.index(13)\n",
        "  del L[i]\n",
        "print(L)"
      ],
      "metadata": {
        "colab": {
          "base_uri": "https://localhost:8080/"
        },
        "id": "r1sdmGBIndEh",
        "outputId": "891807e1-9e72-499f-bb45-055236094689"
      },
      "execution_count": null,
      "outputs": [
        {
          "output_type": "stream",
          "name": "stdout",
          "text": [
            "[14, 15, 50, 60]\n"
          ]
        }
      ]
    },
    {
      "cell_type": "markdown",
      "source": [
        "Q1-iii."
      ],
      "metadata": {
        "id": "9nSnKapMpHQg"
      }
    },
    {
      "cell_type": "code",
      "source": [
        "L.sort()\n",
        "print(L)"
      ],
      "metadata": {
        "colab": {
          "base_uri": "https://localhost:8080/"
        },
        "id": "IdGEuJmppKEv",
        "outputId": "5b253645-5739-4c04-977a-b7b9a2af9dfd"
      },
      "execution_count": null,
      "outputs": [
        {
          "output_type": "stream",
          "name": "stdout",
          "text": [
            "[11, 13, 14, 15, 50, 60]\n"
          ]
        }
      ]
    },
    {
      "cell_type": "markdown",
      "source": [
        "Q1-iv."
      ],
      "metadata": {
        "id": "-GJtmXUjpVcR"
      }
    },
    {
      "cell_type": "code",
      "source": [
        "L.sort(reverse = True)\n",
        "print(L)"
      ],
      "metadata": {
        "colab": {
          "base_uri": "https://localhost:8080/"
        },
        "id": "vt93mnNopX1Y",
        "outputId": "95b9e922-c624-4db8-936b-0fab43837c90"
      },
      "execution_count": null,
      "outputs": [
        {
          "output_type": "stream",
          "name": "stdout",
          "text": [
            "[60, 50, 15, 14]\n"
          ]
        }
      ]
    },
    {
      "cell_type": "markdown",
      "source": [
        "Q1-v."
      ],
      "metadata": {
        "id": "dmeXfJ6Gqtd1"
      }
    },
    {
      "cell_type": "code",
      "source": [
        "if 13 in L:\n",
        "  print(\"Found 13 in L\")\n",
        "else:\n",
        "  print(\"Not Found\")"
      ],
      "metadata": {
        "colab": {
          "base_uri": "https://localhost:8080/"
        },
        "id": "tFmsXJukqvPn",
        "outputId": "a8a77aa6-aa21-4d8f-a0f9-185d75a037a2"
      },
      "execution_count": null,
      "outputs": [
        {
          "output_type": "stream",
          "name": "stdout",
          "text": [
            "Not Found\n"
          ]
        }
      ]
    },
    {
      "cell_type": "markdown",
      "source": [
        "Q1-vi."
      ],
      "metadata": {
        "id": "fuKJ3LINq_pT"
      }
    },
    {
      "cell_type": "code",
      "source": [
        "elements = len(L)\n",
        "print(elements)\n"
      ],
      "metadata": {
        "colab": {
          "base_uri": "https://localhost:8080/"
        },
        "id": "5e37pXqWrE3d",
        "outputId": "27dda996-46ed-425e-fdae-1790b0f9d872"
      },
      "execution_count": null,
      "outputs": [
        {
          "output_type": "stream",
          "name": "stdout",
          "text": [
            "4\n"
          ]
        }
      ]
    },
    {
      "cell_type": "markdown",
      "source": [
        "Q1-vii."
      ],
      "metadata": {
        "id": "wP0BmyN-rk9C"
      }
    },
    {
      "cell_type": "code",
      "source": [
        "Sum = sum(L)\n",
        "print(\"sum of elements = \", Sum)"
      ],
      "metadata": {
        "colab": {
          "base_uri": "https://localhost:8080/"
        },
        "id": "CVcN0P9rrmso",
        "outputId": "f34b869d-b912-404e-d4db-cfb8da116491"
      },
      "execution_count": null,
      "outputs": [
        {
          "output_type": "stream",
          "name": "stdout",
          "text": [
            "sum of elements =  139\n"
          ]
        }
      ]
    },
    {
      "cell_type": "markdown",
      "source": [
        "Q1-viii."
      ],
      "metadata": {
        "id": "nWcZWT-4r6dw"
      }
    },
    {
      "cell_type": "code",
      "source": [
        "odd_sum =0\n",
        "for j in range (0, len(L)):\n",
        "  if( L[j]%2!=0):\n",
        "    odd_sum+=L[j]\n",
        "print(odd_sum)"
      ],
      "metadata": {
        "colab": {
          "base_uri": "https://localhost:8080/"
        },
        "id": "_Lfmsu0qr84D",
        "outputId": "7bbecfa4-ee9e-4ce3-d9de-ed0aaef57389"
      },
      "execution_count": null,
      "outputs": [
        {
          "output_type": "stream",
          "name": "stdout",
          "text": [
            "15\n"
          ]
        }
      ]
    },
    {
      "cell_type": "markdown",
      "source": [
        "Q1-ix."
      ],
      "metadata": {
        "id": "QNr7YqTxsjmY"
      }
    },
    {
      "cell_type": "code",
      "source": [
        "even_sum =0\n",
        "for j in range (0, len(L)):\n",
        "  if(L[j]%2)==0:\n",
        "    even_sum+=L[j]\n",
        "print(even_sum)"
      ],
      "metadata": {
        "colab": {
          "base_uri": "https://localhost:8080/"
        },
        "id": "0KATqC5YsFgr",
        "outputId": "8666aee5-318c-4624-c744-8cde9a261ba8"
      },
      "execution_count": null,
      "outputs": [
        {
          "output_type": "stream",
          "name": "stdout",
          "text": [
            "124\n"
          ]
        }
      ]
    },
    {
      "cell_type": "markdown",
      "source": [
        "Q1-x."
      ],
      "metadata": {
        "id": "2pFRi0f5tJu3"
      }
    },
    {
      "cell_type": "code",
      "source": [
        "prime_sum =0\n",
        "for i in range (0, len(L)):\n",
        "  flag = True\n",
        "  for j in range (2, L[i]//2):\n",
        "    if(L[i]%j ==0):\n",
        "      flag = False\n",
        "      break\n",
        "  if(flag):\n",
        "    prime_sum+=L[i]\n",
        "print(prime_sum)"
      ],
      "metadata": {
        "colab": {
          "base_uri": "https://localhost:8080/"
        },
        "id": "Hy6dlmw_tL_i",
        "outputId": "b6802ac4-14ab-4f87-b354-f3be7ac1f493"
      },
      "execution_count": null,
      "outputs": [
        {
          "output_type": "stream",
          "name": "stdout",
          "text": [
            "24\n"
          ]
        }
      ]
    },
    {
      "cell_type": "markdown",
      "source": [
        "Q1-xi."
      ],
      "metadata": {
        "id": "Uvk4Mla2y2Hw"
      }
    },
    {
      "cell_type": "code",
      "source": [
        "L.clear()\n",
        "print(L)\n"
      ],
      "metadata": {
        "colab": {
          "base_uri": "https://localhost:8080/"
        },
        "id": "7mxg_96Mtz1x",
        "outputId": "bf99fc76-45ca-4682-f797-c80891b7534d"
      },
      "execution_count": null,
      "outputs": [
        {
          "output_type": "stream",
          "name": "stdout",
          "text": [
            "[]\n"
          ]
        }
      ]
    },
    {
      "cell_type": "markdown",
      "source": [
        "Q1-xii."
      ],
      "metadata": {
        "id": "eBQhQ_EUy9ga"
      }
    },
    {
      "cell_type": "code",
      "source": [
        "del L"
      ],
      "metadata": {
        "id": "LAyO5v-Xy_Sz"
      },
      "execution_count": null,
      "outputs": []
    },
    {
      "cell_type": "markdown",
      "source": [
        "Q2-i."
      ],
      "metadata": {
        "id": "liFHAJRhzEEM"
      }
    },
    {
      "cell_type": "code",
      "source": [
        "D = {1:2.6, 2:7.8, 3:6.6, 4:8.7, 5:7.7}\n",
        "D[8] = 8.8\n",
        "print(D)"
      ],
      "metadata": {
        "colab": {
          "base_uri": "https://localhost:8080/"
        },
        "id": "d_JNF2HVzFot",
        "outputId": "ca136abc-5988-43a9-bdac-29a9f0de8e33"
      },
      "execution_count": null,
      "outputs": [
        {
          "output_type": "stream",
          "name": "stdout",
          "text": [
            "{1: 2.6, 2: 7.8, 3: 6.6, 4: 8.7, 5: 7.7, 8: 8.8}\n"
          ]
        }
      ]
    },
    {
      "cell_type": "markdown",
      "source": [
        "Q2-ii."
      ],
      "metadata": {
        "id": "DfCT0jkYzd4n"
      }
    },
    {
      "cell_type": "code",
      "source": [
        "del D[2]\n",
        "print(D)"
      ],
      "metadata": {
        "colab": {
          "base_uri": "https://localhost:8080/"
        },
        "id": "2s3BhaI7zgG8",
        "outputId": "1d03f608-3136-4fd6-c0d5-3b654fa36d68"
      },
      "execution_count": null,
      "outputs": [
        {
          "output_type": "stream",
          "name": "stdout",
          "text": [
            "{1: 2.6, 3: 6.6, 4: 8.7, 5: 7.7, 8: 8.8}\n"
          ]
        }
      ]
    },
    {
      "cell_type": "markdown",
      "source": [
        "Q2-iii."
      ],
      "metadata": {
        "id": "2aL7O-IVzn68"
      }
    },
    {
      "cell_type": "code",
      "source": [
        "if 6 in D:\n",
        "  print(\"Key is present\")\n",
        "else:\n",
        "  print(\"key is not present\")"
      ],
      "metadata": {
        "colab": {
          "base_uri": "https://localhost:8080/"
        },
        "id": "LcSq9SHdzqjI",
        "outputId": "e85dd1d7-bc2b-4a9f-b667-3c7121b6e408"
      },
      "execution_count": null,
      "outputs": [
        {
          "output_type": "stream",
          "name": "stdout",
          "text": [
            "key is not present\n"
          ]
        }
      ]
    },
    {
      "cell_type": "markdown",
      "source": [
        "Q2-iv."
      ],
      "metadata": {
        "id": "_Ob-7a--z8Xp"
      }
    },
    {
      "cell_type": "code",
      "source": [
        "print(len(D))"
      ],
      "metadata": {
        "colab": {
          "base_uri": "https://localhost:8080/"
        },
        "id": "Kf-HfchOz-Dz",
        "outputId": "cb74af7e-2fcf-4d51-8716-82776c1b0861"
      },
      "execution_count": null,
      "outputs": [
        {
          "output_type": "stream",
          "name": "stdout",
          "text": [
            "6\n"
          ]
        }
      ]
    },
    {
      "cell_type": "markdown",
      "source": [
        "Q2-v."
      ],
      "metadata": {
        "id": "G4WsbPlO0DOy"
      }
    },
    {
      "cell_type": "code",
      "source": [
        "sum =0\n",
        "for key in D:\n",
        "  sum+=D[key]\n",
        "print(sum)"
      ],
      "metadata": {
        "colab": {
          "base_uri": "https://localhost:8080/"
        },
        "id": "0eWRSVI-0E4b",
        "outputId": "8aeb18f7-65af-474f-dd4b-49685d54babf"
      },
      "execution_count": null,
      "outputs": [
        {
          "output_type": "stream",
          "name": "stdout",
          "text": [
            "42.2\n"
          ]
        }
      ]
    },
    {
      "cell_type": "markdown",
      "source": [
        "Q2-vi."
      ],
      "metadata": {
        "id": "mFOq6s9l0QQS"
      }
    },
    {
      "cell_type": "code",
      "source": [
        "D[3] = 7.1\n",
        "print(D)"
      ],
      "metadata": {
        "colab": {
          "base_uri": "https://localhost:8080/"
        },
        "id": "QlGih9jQ0SHT",
        "outputId": "a9659dd6-3121-42b6-9c3c-ded17abd55e9"
      },
      "execution_count": null,
      "outputs": [
        {
          "output_type": "stream",
          "name": "stdout",
          "text": [
            "{1: 2.6, 2: 7.8, 3: 7.1, 4: 8.7, 5: 7.7, 8: 8.8}\n"
          ]
        }
      ]
    },
    {
      "cell_type": "markdown",
      "source": [
        "Q2-vii."
      ],
      "metadata": {
        "id": "AOFP-WwG0YLF"
      }
    },
    {
      "cell_type": "code",
      "source": [
        "D.clear()\n",
        "print(D)"
      ],
      "metadata": {
        "colab": {
          "base_uri": "https://localhost:8080/"
        },
        "id": "FxFUnB5e0bZl",
        "outputId": "99fe8273-1f58-45ab-c319-861e6b083dbd"
      },
      "execution_count": null,
      "outputs": [
        {
          "output_type": "stream",
          "name": "stdout",
          "text": [
            "{}\n"
          ]
        }
      ]
    },
    {
      "cell_type": "markdown",
      "source": [
        "Q3-i."
      ],
      "metadata": {
        "id": "771h8zBV0gNZ"
      }
    },
    {
      "cell_type": "code",
      "source": [
        "S1 = set([10,20,30,40,50,60])\n",
        "S2 = set([40,50,60,70,80,90])\n",
        "\n",
        "S1.add(55)\n",
        "S1.add(66)\n",
        "\n",
        "print(S1)"
      ],
      "metadata": {
        "colab": {
          "base_uri": "https://localhost:8080/"
        },
        "id": "hhbzz8Yr0h3p",
        "outputId": "61bca781-7430-42a8-de3f-c49a93878604"
      },
      "execution_count": null,
      "outputs": [
        {
          "output_type": "stream",
          "name": "stdout",
          "text": [
            "{66, 40, 10, 50, 20, 55, 60, 30}\n"
          ]
        }
      ]
    },
    {
      "cell_type": "markdown",
      "source": [
        "Q3-ii."
      ],
      "metadata": {
        "id": "4jQYWhQo1Adm"
      }
    },
    {
      "cell_type": "code",
      "source": [
        "S1.remove(10)\n",
        "S1.remove(30)\n",
        "print(S1)"
      ],
      "metadata": {
        "colab": {
          "base_uri": "https://localhost:8080/"
        },
        "id": "aRdnRiLU1CMO",
        "outputId": "783e61f0-540c-456f-8ab3-427e0f73403a"
      },
      "execution_count": null,
      "outputs": [
        {
          "output_type": "stream",
          "name": "stdout",
          "text": [
            "{66, 40, 50, 20, 55, 60}\n"
          ]
        }
      ]
    },
    {
      "cell_type": "markdown",
      "source": [
        "Q3-iii."
      ],
      "metadata": {
        "id": "dL2S2we_1Ozv"
      }
    },
    {
      "cell_type": "code",
      "source": [
        "if 40 in S1:\n",
        "  print(\"present\")\n",
        "else:\n",
        "  print(\"not present\")"
      ],
      "metadata": {
        "colab": {
          "base_uri": "https://localhost:8080/"
        },
        "id": "hOVRaSDX1RBA",
        "outputId": "c21b2730-4506-4682-d2f0-b90363e3d246"
      },
      "execution_count": null,
      "outputs": [
        {
          "output_type": "stream",
          "name": "stdout",
          "text": [
            "present\n"
          ]
        }
      ]
    },
    {
      "cell_type": "markdown",
      "source": [
        "Q3-iv."
      ],
      "metadata": {
        "id": "tFLezIJG1Zrp"
      }
    },
    {
      "cell_type": "code",
      "source": [
        "print(S1.union(S2))"
      ],
      "metadata": {
        "colab": {
          "base_uri": "https://localhost:8080/"
        },
        "id": "_jKfWp_01baR",
        "outputId": "5afceaa1-a8e3-4fe2-803e-58f0cbfb17ff"
      },
      "execution_count": null,
      "outputs": [
        {
          "output_type": "stream",
          "name": "stdout",
          "text": [
            "{66, 70, 40, 80, 50, 20, 55, 90, 60}\n"
          ]
        }
      ]
    },
    {
      "cell_type": "markdown",
      "source": [
        "Q3-v."
      ],
      "metadata": {
        "id": "bAclEuYV1khG"
      }
    },
    {
      "cell_type": "code",
      "source": [
        "print(S1.intersection(S2))"
      ],
      "metadata": {
        "colab": {
          "base_uri": "https://localhost:8080/"
        },
        "id": "q1wVAuN21mWv",
        "outputId": "09d12fc9-e1a4-4520-c8ed-1f2fc76f5100"
      },
      "execution_count": null,
      "outputs": [
        {
          "output_type": "stream",
          "name": "stdout",
          "text": [
            "{40, 50, 60}\n"
          ]
        }
      ]
    },
    {
      "cell_type": "markdown",
      "source": [
        "Q3-vi"
      ],
      "metadata": {
        "id": "-E6w3CAV1uXw"
      }
    },
    {
      "cell_type": "code",
      "source": [
        "print(S1-S2)"
      ],
      "metadata": {
        "colab": {
          "base_uri": "https://localhost:8080/"
        },
        "id": "afHcnuip1w6U",
        "outputId": "089e8cf3-2058-4bde-90d2-5c1cd01813f2"
      },
      "execution_count": null,
      "outputs": [
        {
          "output_type": "stream",
          "name": "stdout",
          "text": [
            "{66, 20, 55}\n"
          ]
        }
      ]
    },
    {
      "cell_type": "markdown",
      "source": [
        "Q4-i."
      ],
      "metadata": {
        "id": "UOPQhcIk13Tp"
      }
    },
    {
      "cell_type": "code",
      "source": [
        "import string as s\n",
        "import random as r\n",
        "\n",
        "for i in range (100):\n",
        "  passw = \"\".join(r.sample(s.ascii_letters, r.randint(6,8)))\n",
        "  print(passw)"
      ],
      "metadata": {
        "id": "PBCd9oT616Ck"
      },
      "execution_count": null,
      "outputs": []
    },
    {
      "cell_type": "markdown",
      "source": [
        "Q4-ii."
      ],
      "metadata": {
        "id": "zGRJJwVP3VJp"
      }
    },
    {
      "cell_type": "code",
      "source": [
        "\n",
        "for i in range (600,800):\n",
        "  flag = True\n",
        "  for j in range (2, i//2):\n",
        "    if(i%j ==0):\n",
        "      flag = False\n",
        "      break\n",
        "  if(flag):\n",
        "    print(i)"
      ],
      "metadata": {
        "id": "SLJ351GG2Z54"
      },
      "execution_count": null,
      "outputs": []
    },
    {
      "cell_type": "markdown",
      "source": [
        "Q4-iii."
      ],
      "metadata": {
        "id": "WzYjemo-38zZ"
      }
    },
    {
      "cell_type": "code",
      "source": [
        "for i in range(100, 1000):\n",
        "  if((i%7 == 0) and (i%9==0)):\n",
        "    print(i)"
      ],
      "metadata": {
        "id": "auzeWZBn3-ss"
      },
      "execution_count": null,
      "outputs": []
    },
    {
      "cell_type": "markdown",
      "source": [
        "Q5-i."
      ],
      "metadata": {
        "id": "I9906rj04SSr"
      }
    },
    {
      "cell_type": "code",
      "source": [
        "L1 = [r.randint(10,30) for i in range(10)]\n",
        "L2 = [r.randint(10,30) for i in range(10)]\n",
        "\n",
        "print(L1)\n",
        "print(L2)\n",
        "\n",
        "result = [element for element in set(L1) if element in set(L2)]\n",
        "print(result)"
      ],
      "metadata": {
        "id": "bjpK2Wkl4QS5",
        "colab": {
          "base_uri": "https://localhost:8080/"
        },
        "outputId": "fb908654-ef32-46c3-a277-30f0716830ad"
      },
      "execution_count": 16,
      "outputs": [
        {
          "output_type": "stream",
          "name": "stdout",
          "text": [
            "[28, 16, 26, 24, 20, 12, 24, 14, 24, 30]\n",
            "[15, 25, 10, 13, 17, 28, 18, 24, 16, 11]\n",
            "[16, 24, 28]\n"
          ]
        }
      ]
    },
    {
      "cell_type": "markdown",
      "source": [
        "Q5-ii."
      ],
      "metadata": {
        "id": "3f4Y-dhX52UM"
      }
    },
    {
      "cell_type": "code",
      "source": [
        "result2 = list(set(L1).symmetric_difference(set(L2)))\n",
        "print(result2)"
      ],
      "metadata": {
        "id": "ffI69ytJ54Oo",
        "colab": {
          "base_uri": "https://localhost:8080/"
        },
        "outputId": "74e0a0fd-62cf-4823-85f9-6bddb418cd5e"
      },
      "execution_count": 22,
      "outputs": [
        {
          "output_type": "stream",
          "name": "stdout",
          "text": [
            "[10, 11, 12, 13, 14, 15, 17, 18, 20, 25, 26, 30]\n"
          ]
        }
      ]
    },
    {
      "cell_type": "markdown",
      "source": [
        "Q5-iii."
      ],
      "metadata": {
        "id": "ebOZZj8fl1p4"
      }
    },
    {
      "cell_type": "code",
      "source": [
        "print(min(set(L1).union(set(L2))))"
      ],
      "metadata": {
        "id": "gieHRZhp6UAE",
        "colab": {
          "base_uri": "https://localhost:8080/"
        },
        "outputId": "3918dcd6-05b2-4877-9fd4-1e9255d04804"
      },
      "execution_count": 23,
      "outputs": [
        {
          "output_type": "stream",
          "name": "stdout",
          "text": [
            "10\n"
          ]
        }
      ]
    },
    {
      "cell_type": "markdown",
      "source": [
        "Q5-iv."
      ],
      "metadata": {
        "id": "rWGMRH7SmHLz"
      }
    },
    {
      "cell_type": "code",
      "source": [
        "print(max(set(L1).union(set(L2))))"
      ],
      "metadata": {
        "colab": {
          "base_uri": "https://localhost:8080/"
        },
        "id": "Gu08e0o5mI7B",
        "outputId": "3ec7bca9-d18d-4146-b5b5-1628f4a8b73b"
      },
      "execution_count": 24,
      "outputs": [
        {
          "output_type": "stream",
          "name": "stdout",
          "text": [
            "30\n"
          ]
        }
      ]
    },
    {
      "cell_type": "markdown",
      "source": [
        "Q5-v."
      ],
      "metadata": {
        "id": "sGSCftgjmLCr"
      }
    },
    {
      "cell_type": "code",
      "source": [
        "print(sum(L1)+sum(L2))"
      ],
      "metadata": {
        "colab": {
          "base_uri": "https://localhost:8080/"
        },
        "id": "ibhDjh1qmXBN",
        "outputId": "3a2374fd-8d59-497f-84d6-a78e78f67ffb"
      },
      "execution_count": 25,
      "outputs": [
        {
          "output_type": "stream",
          "name": "stdout",
          "text": [
            "395\n"
          ]
        }
      ]
    },
    {
      "cell_type": "markdown",
      "source": [
        "Q6-i."
      ],
      "metadata": {
        "id": "fbPYc5OUmRNu"
      }
    },
    {
      "cell_type": "code",
      "source": [
        "random_num = [r.randint(100,900) for i in range(100)]\n",
        "count_even=0\n",
        "for i in range(100):\n",
        "  if random_num[i]%2==0:\n",
        "    count_even+=1\n",
        "    print(random_num[i])\n",
        "\n",
        "print(\"count of even numbers = \",count_even)"
      ],
      "metadata": {
        "id": "JsAY2cycmVCg"
      },
      "execution_count": null,
      "outputs": []
    },
    {
      "cell_type": "markdown",
      "source": [
        "Q6-ii."
      ],
      "metadata": {
        "id": "Jv64egTlnzIh"
      }
    },
    {
      "cell_type": "code",
      "source": [
        "count_odd=0\n",
        "for i in range (100):\n",
        "  if random_num[i]%2 !=0:\n",
        "      count_odd+=1\n",
        "      print(random_num[i])\n",
        "\n",
        "print(\"count of odd numbers = \", count_odd)"
      ],
      "metadata": {
        "id": "LSSyan2bmnr4"
      },
      "execution_count": null,
      "outputs": []
    },
    {
      "cell_type": "markdown",
      "source": [
        "Q6-iii."
      ],
      "metadata": {
        "id": "4DTlxQRAoN9u"
      }
    },
    {
      "cell_type": "code",
      "source": [
        "count_prime=0\n",
        "for i in range (100):\n",
        "  flag = True\n",
        "  for j in range (2,random_num[i]//2):\n",
        "    if random_num[i]%j == 0:\n",
        "      flag = False\n",
        "      break\n",
        "\n",
        "if(flag):\n",
        "  count_prime+=1\n",
        "  print(random_num[i])\n",
        "print(\"count of prime numbers = \", count_prime)"
      ],
      "metadata": {
        "colab": {
          "base_uri": "https://localhost:8080/"
        },
        "id": "ccg2H9eBoRND",
        "outputId": "3ef98d4d-cac1-4256-b9a6-76fbc41e9c25"
      },
      "execution_count": 9,
      "outputs": [
        {
          "output_type": "stream",
          "name": "stdout",
          "text": [
            "count of prime numbers =  0\n"
          ]
        }
      ]
    },
    {
      "cell_type": "markdown",
      "source": [
        "Q7-"
      ],
      "metadata": {
        "id": "Y_a13ez9nxxe"
      }
    },
    {
      "cell_type": "code",
      "source": [
        "D={1:\"One\", 2:\"Two\", 3:\"Three\", 4:\"Four\", 5:\"Five\"}\n",
        "fp = open('dictionary.text','w')\n",
        "for key in D:\n",
        "  fp.write(str(key) +\" \"+ D[key] + \"\\n\")\n",
        "fp.close()\n"
      ],
      "metadata": {
        "id": "J5p7ZoWhpXKP"
      },
      "execution_count": 13,
      "outputs": []
    },
    {
      "cell_type": "markdown",
      "source": [
        "Q8"
      ],
      "metadata": {
        "id": "VVRVyc0EWcjv"
      }
    },
    {
      "cell_type": "code",
      "source": [
        "L=[\"One\", \"Two\", \"Three\", \"Four\", \"Five\"]\n",
        "count =0\n",
        "fp = open('list.text','w')\n",
        "for i in range(len(L)):\n",
        "  count = len(L[i])\n",
        "  fp.write(L[i] +\" \"+  str(count) + \"\\n\")\n",
        "fp.close()"
      ],
      "metadata": {
        "id": "Z4fUQHkEWe6l"
      },
      "execution_count": 15,
      "outputs": []
    },
    {
      "cell_type": "markdown",
      "source": [
        "Q9"
      ],
      "metadata": {
        "id": "-2yN8q6WXuQC"
      }
    },
    {
      "cell_type": "code",
      "source": [
        "fp = open('string.text','w')\n",
        "for i in range(100):\n",
        "  string = \"\".join(r.sample(s.ascii_letters, r.randint(10,15)))\n",
        "  fp.write(string + \"\\n\")\n",
        "fp.close()"
      ],
      "metadata": {
        "id": "OHUY8oviX0eD"
      },
      "execution_count": 17,
      "outputs": []
    },
    {
      "cell_type": "markdown",
      "source": [
        "Q10"
      ],
      "metadata": {
        "id": "tdn_P7Q4ZCRv"
      }
    },
    {
      "cell_type": "code",
      "source": [
        "fp = open('prime.text','w')\n",
        "for i in range (600,800):\n",
        "  flag = True\n",
        "  for j in range (2, i//2):\n",
        "    if(i%j ==0):\n",
        "      flag = False\n",
        "      break\n",
        "  if(flag):\n",
        "    fp.write(str(i)+\"\\n\")\n",
        "fp.close()"
      ],
      "metadata": {
        "id": "17GUOIPoZD2Z"
      },
      "execution_count": 1,
      "outputs": []
    },
    {
      "cell_type": "markdown",
      "source": [
        "Q11."
      ],
      "metadata": {
        "id": "W7vzfTehwBbN"
      }
    },
    {
      "cell_type": "code",
      "source": [
        "import time\n",
        "start = time.time()\n",
        "\n",
        "print(\"hello World!\")\n",
        "print(100*100)\n",
        "\n",
        "end = time.time()\n",
        "print(\"time ellapsed = \", end-start)"
      ],
      "metadata": {
        "colab": {
          "base_uri": "https://localhost:8080/"
        },
        "id": "5YgMloi0wCyl",
        "outputId": "343606e7-32aa-4722-8d9e-f091c9f43be6"
      },
      "execution_count": 2,
      "outputs": [
        {
          "output_type": "stream",
          "name": "stdout",
          "text": [
            "hello World!\n",
            "10000\n",
            "time ellapsed =  0.0015530586242675781\n"
          ]
        }
      ]
    },
    {
      "cell_type": "markdown",
      "source": [
        "Q12."
      ],
      "metadata": {
        "id": "ZUBQwyJuwjQ6"
      }
    },
    {
      "cell_type": "code",
      "source": [
        "num = int(input(\"enter the number of elements \"))\n",
        "\n",
        "List = [r.randint(1,500) for i in range(num)]\n",
        "start = time.time()\n",
        "sorted_list = List.sort()\n",
        "end = time.time()\n",
        "T = end-start\n",
        "\n",
        "print(\"time taken = \", T)"
      ],
      "metadata": {
        "colab": {
          "base_uri": "https://localhost:8080/"
        },
        "id": "Z4USd1zhwlUx",
        "outputId": "97c34d21-b388-4c8b-c9a8-5e52c2e12303"
      },
      "execution_count": 6,
      "outputs": [
        {
          "output_type": "stream",
          "name": "stdout",
          "text": [
            "enter the number of elements 5000\n",
            "time taken =  0.00098419189453125\n"
          ]
        }
      ]
    },
    {
      "cell_type": "markdown",
      "source": [
        "Q13"
      ],
      "metadata": {
        "id": "X7Xtk3dAw5c3"
      }
    },
    {
      "cell_type": "code",
      "source": [
        "Marks = {1:[56,34,78,90,99], 2:[89,78,98,76,88], 3:[98,89,78,76,94]}\n",
        "min_avg=100\n",
        "max_avg=0\n",
        "min_key=-1\n",
        "max_key=-1\n",
        "for keys in Marks:\n",
        "  avg = sum(Marks[keys])/5\n",
        "  if avg>max_avg:\n",
        "    max_avg=avg\n",
        "    max_key = keys\n",
        "  if avg<min_avg:\n",
        "    min_avg=avg\n",
        "    min_key = keys\n",
        "\n",
        "print(\"min avg = \", min_avg , min_key)\n",
        "print(\"max avg = \", max_avg, max_key)\n"
      ],
      "metadata": {
        "colab": {
          "base_uri": "https://localhost:8080/"
        },
        "id": "bupDc4cTw9AU",
        "outputId": "71e0140d-4765-4460-fabf-79403443eb1c"
      },
      "execution_count": 4,
      "outputs": [
        {
          "output_type": "stream",
          "name": "stdout",
          "text": [
            "min avg =  71.4 1\n",
            "max avg =  87.0 3\n"
          ]
        }
      ]
    }
  ]
}